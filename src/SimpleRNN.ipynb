{
 "cells": [
  {
   "cell_type": "markdown",
   "id": "6eb6ebd5-c2a1-44ba-b263-8066043046c1",
   "metadata": {},
   "source": [
    "# **Fake News Detection Using DEEP LEARNING**  \n",
    "\n",
    "\n",
    "\n",
    "**Author:** Saksham Pathak, MSc AI & ML (2024-26)  \n",
    "**Under the Guidance of:** Mr. Sandeep Srivastava, Professor of MLOps  \n",
    "\n",
    "### **Problem Statement**  \n",
    "The rise of misinformation poses a significant challenge in today's digital era. Fake news spreads rapidly, influencing public opinion and decision-making. A robust fake news detection system is essential to ensure the credibility of information.  \n",
    "\n",
    "### **Project Overview**  \n",
    "This project leverages a **Simple Recurrent Neural Network (RNN)** to classify news articles as **fake** or **real**. The dataset, sourced from Kaggle, consists of labeled news articles. Key preprocessing steps include **tokenization, padding, and text vectorization**, followed by training a Simple RNN model for classification.  \n",
    "\n",
    "### **Key Objectives**  \n",
    "- Develop an **efficient fake news detection system** using deep learning.  \n",
    "- Improve model accuracy through **data preprocessing and hyperparameter tuning**.  \n",
    "- Deploy a web application for real-time news verification.  \n",
    "\n",
    "\n"
   ]
  },
  {
   "cell_type": "markdown",
   "id": "4a88adc4-6f81-4d84-8f5d-0cd4ce6baed4",
   "metadata": {},
   "source": [
    "\n",
    "---\n",
    "\n",
    "\n",
    "\n",
    "# ** Initial Research & Dataset Selection**  \n",
    "\n",
    "### **Challenges in Fake News Detection**  \n",
    "The proliferation of misinformation poses a significant challenge in today's digital landscape. Fake news spreads rapidly across social media, influencing public perception, political discourse, and societal stability. Detecting fake news is complex due to several factors:  \n",
    "\n",
    "- **Ambiguity & Bias**: Some articles contain a mix of factual and misleading information, making classification difficult.  \n",
    "- **Contextual Understanding**: Traditional models struggle with sarcasm, hyperbole, and politically biased narratives.  \n",
    "- **Evolving Misinformation**: Fake news constantly evolves, requiring adaptable detection techniques.  \n",
    "- **Dataset Limitations**: Many datasets are imbalanced or lack linguistic diversity, impacting model generalization.  \n",
    "\n",
    "To address these challenges, we aim to develop a robust **deep learning-based fake news detection model** that can accurately classify news articles.  \n",
    "\n",
    "---\n",
    "\n",
    "### **Dataset Selection & Justification**  \n",
    "For this project, we selected the **Kaggle Fake News Dataset**, which consists of two separate files:  \n",
    "- **Fake.csv** – News articles labeled as **fake**.  \n",
    "- **True.csv** – News articles labeled as **real**.  \n",
    "\n",
    "This dataset was chosen due to the following advantages:  \n",
    "✅ **Balanced Representation**: Equal distribution of fake and real news samples.  \n",
    "✅ **Labeled Data**: Clearly annotated data facilitates supervised learning.  \n",
    "✅ **Sufficient Size**: The dataset includes over 40,000 articles, enabling robust model training.  \n",
    "✅ **Diverse Sources**: Articles come from various publishers, improving model generalization.  \n",
    "\n",
    "By leveraging this dataset, we aim to train an efficient **Recurrent Neural Network (RNN)** capable of distinguishing between real and fake news articles based on textual content.  \n",
    "\n",
    "---\n",
    "\n",
    "### **Dataset Overview**  \n",
    "The dataset comprises news articles with the following key attributes:  \n",
    "\n",
    "| Feature | Description |\n",
    "|---------|------------|\n",
    "| **Text** | Full content of the news article |\n",
    "| **Label** | Classification label (0: Fake, 1: Real) |\n",
    "\n",
    "#### **Class Distribution**  \n",
    "- **Total Samples**: ~44,000 articles  \n",
    "- **Fake News Samples**: ~22,000  \n",
    "- **Real News Samples**: ~22,000  \n",
    "\n"
   ]
  },
  {
   "cell_type": "markdown",
   "id": "98fe1901-7b50-4784-aea0-c81646b7240d",
   "metadata": {},
   "source": [
    "### **Step 1: Importing Required Libraries**  \n",
    "This section includes all necessary imports for **data handling, visualization, preprocessing, and model building**.  \n"
   ]
  },
  {
   "cell_type": "code",
   "execution_count": 27,
   "id": "6e63f797-6ebc-48ef-995b-09abadd65d4e",
   "metadata": {},
   "outputs": [],
   "source": [
    "# Data Handling & Visualization\n",
    "import numpy as np\n",
    "import pandas as pd\n",
    "import matplotlib.pyplot as plt\n",
    "import seaborn as sns\n",
    "from wordcloud import WordCloud\n",
    "\n",
    "\n"
   ]
  },
  {
   "cell_type": "code",
   "execution_count": 35,
   "id": "5f03dbae-7e7f-44bf-9236-6b662912219a",
   "metadata": {},
   "outputs": [],
   "source": [
    "# Machine Learning & Deep Learning\n",
    "from sklearn.model_selection import train_test_split\n",
    "from sklearn.metrics import classification_report, roc_curve,confusion_matrix, auc\n",
    "\n"
   ]
  },
  {
   "cell_type": "code",
   "execution_count": 52,
   "id": "e5178c47-ef9f-495f-bf61-36a46288cff0",
   "metadata": {},
   "outputs": [],
   "source": [
    "# TensorFlow & Keras for RNN Model\n",
    "from tensorflow.keras.models import Sequential, load_model\n",
    "from tensorflow.keras.callbacks import EarlyStopping\n",
    "from tensorflow.keras.layers import Embedding, SimpleRNN, Dense, Dropout\n",
    "from tensorflow.keras.preprocessing.text import Tokenizer\n",
    "from tensorflow.keras.preprocessing.sequence import pad_sequences\n",
    "\n"
   ]
  },
  {
   "cell_type": "code",
   "execution_count": 30,
   "id": "54d19222-df75-4fbe-a9bd-b600ca9573fa",
   "metadata": {},
   "outputs": [],
   "source": [
    "# Saving Model & Tokenizer\n",
    "import pickle"
   ]
  },
  {
   "cell_type": "markdown",
   "id": "3f04e1ff-db51-4d4d-ad17-1af2215095cd",
   "metadata": {},
   "source": [
    "This ensures that **all required libraries** for **EDA, text preprocessing, model training, and evaluation** are included.  \n",
    "\n",
    "---  \n"
   ]
  },
  {
   "cell_type": "markdown",
   "id": "826cff8b-1e46-4d81-913c-fb6000aec471",
   "metadata": {},
   "source": [
    "### **Step 2: Loading the Dataset & Initial Preprocessing**  \n",
    "\n",
    "Now, we will **load the dataset** and perform some **basic preprocessing** to prepare it for further analysis.  \n",
    "\n",
    "```python\n",
    "\n",
    "```\n",
    "\n"
   ]
  },
  {
   "cell_type": "code",
   "execution_count": 6,
   "id": "ccc43759-44fd-40fd-a4ff-3cd33501f910",
   "metadata": {},
   "outputs": [
    {
     "name": "stdout",
     "output_type": "stream",
     "text": [
      "Dataset Shape: (44898, 2)\n",
      "                                                text  label\n",
      "0  21st Century Wire says Ben Stein, reputable pr...      0\n",
      "1  WASHINGTON (Reuters) - U.S. President Donald T...      1\n",
      "2  (Reuters) - Puerto Rico Governor Ricardo Rosse...      1\n",
      "3  On Monday, Donald Trump once again embarrassed...      0\n",
      "4  GLASGOW, Scotland (Reuters) - Most U.S. presid...      1\n"
     ]
    }
   ],
   "source": [
    "# Load Dataset\n",
    "fake_df = pd.read_csv(\"../data/Fake.csv\")\n",
    "true_df = pd.read_csv(\"../data/True.csv\")\n",
    "\n",
    "# Add Labels (0: Fake, 1: Real)\n",
    "fake_df['label'] = 0\n",
    "true_df['label'] = 1\n",
    "\n",
    "# Combine the datasets\n",
    "data = pd.concat([fake_df, true_df], ignore_index=True)\n",
    "data = data[['text', 'label']]  # Keeping only relevant columns\n",
    "\n",
    "# Shuffle dataset for randomness\n",
    "data = data.sample(frac=1, random_state=42).reset_index(drop=True)\n",
    "\n",
    "# Display dataset shape and first few rows\n",
    "print(f\"Dataset Shape: {data.shape}\")\n",
    "print(data.head())"
   ]
  },
  {
   "cell_type": "markdown",
   "id": "fdab29ff-1f80-4d06-be15-139a056c58a6",
   "metadata": {},
   "source": [
    "### **Key Preprocessing Steps**  \n",
    "✔ **Merging** fake and real news datasets.  \n",
    "✔ **Assigning labels** (0 = Fake, 1 = Real).  \n",
    "✔ **Shuffling** the dataset for unbiased training.  \n"
   ]
  },
  {
   "cell_type": "markdown",
   "id": "b7929a23-f11f-42f3-987d-5b0328176a25",
   "metadata": {},
   "source": [
    "### **Step 3: Data Preprocessing and Tokenization**  \n",
    "\n",
    "Before training our Simple RNN model, we need to **preprocess** the text data and convert it into a numerical format. This step includes:  \n",
    "✅ Removing unnecessary elements (special characters, extra spaces)  \n",
    "✅ Tokenizing text (converting words into numerical representations)  \n",
    "✅ Padding sequences to ensure equal length input  \n",
    "\n",
    "---\n",
    "\n"
   ]
  },
  {
   "cell_type": "markdown",
   "id": "393f57e6-f585-4821-9693-5820f78619c8",
   "metadata": {},
   "source": [
    "### **1️⃣ Text Cleaning and Preprocessing**  \n",
    "We will clean the text by removing special characters and extra spaces.  \n",
    "\n"
   ]
  },
  {
   "cell_type": "code",
   "execution_count": 7,
   "id": "dea82867-e69b-4351-9d12-989377cf96ba",
   "metadata": {},
   "outputs": [],
   "source": [
    "import re\n",
    "import string\n",
    "\n"
   ]
  },
  {
   "cell_type": "code",
   "execution_count": 8,
   "id": "ec72019d-db49-4255-b64c-97bea187ad5a",
   "metadata": {},
   "outputs": [
    {
     "name": "stdout",
     "output_type": "stream",
     "text": [
      "                                                text  \\\n",
      "0  21st Century Wire says Ben Stein, reputable pr...   \n",
      "1  WASHINGTON (Reuters) - U.S. President Donald T...   \n",
      "2  (Reuters) - Puerto Rico Governor Ricardo Rosse...   \n",
      "3  On Monday, Donald Trump once again embarrassed...   \n",
      "4  GLASGOW, Scotland (Reuters) - Most U.S. presid...   \n",
      "\n",
      "                                        cleaned_text  \n",
      "0  st century wire says ben stein reputable profe...  \n",
      "1  washington reuters  us president donald trump ...  \n",
      "2  reuters  puerto rico governor ricardo rossello...  \n",
      "3  on monday donald trump once again embarrassed ...  \n",
      "4  glasgow scotland reuters  most us presidential...  \n"
     ]
    }
   ],
   "source": [
    "# Function to clean text\n",
    "def clean_text(text):\n",
    "    text = text.lower()  # Convert to lowercase\n",
    "    text = re.sub(r'\\s+', ' ', text)  # Remove extra spaces\n",
    "    text = re.sub(r'\\[.*?\\]', '', text)  # Remove text in brackets\n",
    "    text = re.sub(r'[%s]' % re.escape(string.punctuation), '', text)  # Remove punctuation\n",
    "    text = re.sub(r'\\d+', '', text)  # Remove numbers\n",
    "    return text\n",
    "\n",
    "# Apply the cleaning function\n",
    "data['cleaned_text'] = data['text'].apply(clean_text)\n",
    "\n",
    "# Display cleaned text sample\n",
    "print(data[['text', 'cleaned_text']].head())"
   ]
  },
  {
   "cell_type": "markdown",
   "id": "b695c39e-84bc-4a0b-8b31-7017504c0821",
   "metadata": {},
   "source": [
    "### **2️⃣ Tokenization and Sequence Padding**  \n",
    "Neural networks require numerical inputs, so we tokenize the text and pad sequences to a fixed length.  \n",
    "\n",
    "---\n",
    "\n"
   ]
  },
  {
   "cell_type": "code",
   "execution_count": 9,
   "id": "7b348042-6f14-4174-83e9-e58bee0ea0cb",
   "metadata": {},
   "outputs": [
    {
     "name": "stdout",
     "output_type": "stream",
     "text": [
      "Original Text:\n",
      " st century wire says ben stein reputable professor from pepperdine university also of some hollywood fame appearing in tv shows and films such as ferris bueller s day off made some provocative statements on judge jeanine pirro s show recently while discussing the halt that was imposed on president trump s executive order on travel stein referred to the judgement by the th circuit court in washington state as a coup d tat against the executive branch and against the constitution stein went on to call the judges in seattle political puppets and the judiciary political pawns watch the interview below for the complete statements and note the stark contrast to the rhetoric of the leftist media and pundits who neglect to note that no court has ever blocked any presidential orders in immigration in the past or discuss the legal efficacy of the halt or the actual text of the executive orderread more trump news at st century wire trump filessupport our work by subscribing  becoming a member wiretv\n",
      "\n",
      "Tokenized Sequence:\n",
      " [565, 735, 600, 192, 1810, 3211, 1, 1463, 26, 1, 480, 61, 4, 83, 1426, 6973, 3934, 7, 995, 793, 6, 7004, 164, 19, 1, 1, 10, 193, 223, 127, 83, 5581, 1160, 9, 474, 9370, 1, 10, 238, 674, 112, 2384, 2, 2878, 8, 18, 2125, 9, 38, 17, 10, 367, 246, 9, 814, 3211, 2192, 3, 2, 9753, 21, 2, 692, 2326, 138, 7, 108, 62, 19, 5, 1974, 605, 1, 90, 2, 367, 2947, 6, 90, 2, 962, 3211, 358, 9, 3, 313, 2, 1867, 7, 3921, 125, 1, 6, 2, 1682, 125, 1, 489, 2, 293, 876, 11, 2, 1274, 1160, 6, 1610, 2, 5985, 2767, 3, 2, 1216, 4, 2, 1645, 123, 6, 5862, 30, 1, 3, 1610, 8, 67, 138, 22, 414, 1773, 95, 139, 1844, 7, 319, 7, 2, 372, 48, 999, 2, 385, 1, 4, 2, 2878, 48, 2, 1738, 2773, 4, 2, 367, 1, 49, 17, 97, 28, 565, 735, 600, 17, 3046, 70, 205, 21, 5099, 1330, 5, 352, 2463]\n",
      "\n",
      "Padded Sequence:\n",
      " [ 565  735  600  192 1810 3211    1 1463   26    1  480   61    4   83\n",
      " 1426 6973 3934    7  995  793    6 7004  164   19    1    1   10  193\n",
      "  223  127   83 5581 1160    9  474 9370    1   10  238  674  112 2384\n",
      "    2 2878    8   18 2125    9   38   17   10  367  246    9  814 3211\n",
      " 2192    3    2 9753   21    2  692 2326  138    7  108   62   19    5\n",
      " 1974  605    1   90    2  367 2947    6   90    2  962 3211  358    9\n",
      "    3  313    2 1867    7 3921  125    1    6    2 1682  125    1  489\n",
      "    2  293  876   11    2 1274 1160    6 1610    2 5985 2767    3    2\n",
      " 1216    4    2 1645  123    6 5862   30    1    3 1610    8   67  138\n",
      "   22  414 1773   95  139 1844    7  319    7    2  372   48  999    2\n",
      "  385    1    4    2 2878   48    2 1738 2773    4    2  367    1   49\n",
      "   17   97   28  565  735  600   17 3046   70  205   21 5099 1330    5\n",
      "  352 2463    0    0    0    0    0    0    0    0    0    0    0    0\n",
      "    0    0    0    0    0    0    0    0    0    0    0    0    0    0\n",
      "    0    0    0    0    0    0    0    0    0    0    0    0    0    0\n",
      "    0    0    0    0    0    0    0    0    0    0    0    0    0    0\n",
      "    0    0    0    0    0    0    0    0    0    0    0    0    0    0\n",
      "    0    0    0    0    0    0    0    0    0    0    0    0    0    0\n",
      "    0    0    0    0    0    0    0    0    0    0    0    0    0    0\n",
      "    0    0    0    0    0    0    0    0    0    0    0    0    0    0\n",
      "    0    0    0    0    0    0    0    0    0    0    0    0    0    0\n",
      "    0    0    0    0    0    0    0    0    0    0    0    0    0    0\n",
      "    0    0    0    0    0    0    0    0    0    0    0    0    0    0\n",
      "    0    0    0    0    0    0    0    0    0    0    0    0    0    0\n",
      "    0    0    0    0    0    0    0    0    0    0    0    0    0    0\n",
      "    0    0    0    0    0    0    0    0    0    0    0    0    0    0\n",
      "    0    0    0    0    0    0    0    0    0    0    0    0    0    0\n",
      "    0    0    0    0    0    0    0    0    0    0    0    0    0    0\n",
      "    0    0    0    0    0    0    0    0    0    0    0    0    0    0\n",
      "    0    0    0    0    0    0    0    0    0    0    0    0    0    0\n",
      "    0    0    0    0    0    0    0    0    0    0    0    0    0    0\n",
      "    0    0    0    0    0    0    0    0    0    0    0    0    0    0\n",
      "    0    0    0    0    0    0    0    0    0    0    0    0    0    0\n",
      "    0    0    0    0    0    0    0    0    0    0    0    0    0    0\n",
      "    0    0    0    0    0    0    0    0    0    0    0    0    0    0\n",
      "    0    0    0    0    0    0    0    0    0    0]\n"
     ]
    }
   ],
   "source": [
    "\n",
    "# Define maximum vocabulary size and sequence length\n",
    "MAX_VOCAB_SIZE = 10000  # Maximum words to keep\n",
    "MAX_SEQUENCE_LENGTH = 500  # Maximum number of words per text\n",
    "\n",
    "# Initialize and fit tokenizer\n",
    "tokenizer = Tokenizer(num_words=MAX_VOCAB_SIZE, oov_token=\"<OOV>\")  # Out-of-vocab words replaced with <OOV>\n",
    "tokenizer.fit_on_texts(data['cleaned_text'])\n",
    "\n",
    "# Convert text to sequences\n",
    "sequences = tokenizer.texts_to_sequences(data['cleaned_text'])\n",
    "\n",
    "# Apply padding to ensure uniform sequence length\n",
    "padded_sequences = pad_sequences(sequences, maxlen=MAX_SEQUENCE_LENGTH, padding='post', truncating='post')\n",
    "\n",
    "# Display tokenized sample\n",
    "print(\"Original Text:\\n\", data['cleaned_text'][0])\n",
    "print(\"\\nTokenized Sequence:\\n\", sequences[0])\n",
    "print(\"\\nPadded Sequence:\\n\", padded_sequences[0])"
   ]
  },
  {
   "cell_type": "markdown",
   "id": "37b4c531-ed16-4806-8f53-ab7f1ed32983",
   "metadata": {},
   "source": [
    "### **3️⃣ Splitting Dataset into Training and Testing Sets**  \n",
    "We split the dataset into **80% training** and **20% testing** to evaluate model performance.  \n",
    "\n"
   ]
  },
  {
   "cell_type": "code",
   "execution_count": 10,
   "id": "03faed33-5f97-41cf-a5fc-569b0f3f57f8",
   "metadata": {},
   "outputs": [
    {
     "name": "stdout",
     "output_type": "stream",
     "text": [
      "Training Set: (35918, 500), Testing Set: (8980, 500)\n"
     ]
    }
   ],
   "source": [
    "\n",
    "# Define features (X) and labels (y)\n",
    "X = padded_sequences\n",
    "y = np.array(data['label'])  # Convert labels to NumPy array\n",
    "\n",
    "# Split into training (80%) and testing (20%) sets\n",
    "X_train, X_test, y_train, y_test = train_test_split(X, y, test_size=0.2, random_state=42, stratify=y)\n",
    "\n",
    "print(f\"Training Set: {X_train.shape}, Testing Set: {X_test.shape}\")"
   ]
  },
  {
   "cell_type": "markdown",
   "id": "129c360e-6226-4a3f-8487-3400452b5da1",
   "metadata": {},
   "source": [
    "### **Key Insights from Preprocessing**  \n",
    "📌 Text is **cleaned and tokenized**, removing punctuation and extra characters.  \n",
    "📌 The dataset is converted into numerical sequences and **padded to 500 words** for uniformity.  \n",
    "📌 The **vocabulary size is limited to 10,000 words** to optimize model efficiency.  \n",
    "📌 The dataset is **split into 80% training and 20% testing** for proper evaluation.  \n",
    "\n"
   ]
  },
  {
   "cell_type": "markdown",
   "id": "8fbaf7ac-beee-4051-a7a7-2f041492bee9",
   "metadata": {},
   "source": [
    "### **Step 4: Building and Training the Simple RNN Model**  \n",
    "\n",
    "Now that our dataset is preprocessed and tokenized, we proceed to build and train a **Simple Recurrent Neural Network (RNN)** for fake news detection.  \n",
    "\n",
    "---\n",
    "\n"
   ]
  },
  {
   "cell_type": "markdown",
   "id": "04f24524-c16e-4b3b-9c69-cc6263b8581d",
   "metadata": {},
   "source": [
    "### **4.1 Defining the Simple RNN Model**  \n",
    "We will create an **embedding layer** to convert words into dense vectors, followed by an **RNN layer** to process sequential text data.  \n",
    "\n",
    "\n",
    "\n",
    "\n"
   ]
  },
  {
   "cell_type": "code",
   "execution_count": 11,
   "id": "299b34e1-5c58-41ac-b102-509ede541bbb",
   "metadata": {},
   "outputs": [
    {
     "data": {
      "text/html": [
       "<pre style=\"white-space:pre;overflow-x:auto;line-height:normal;font-family:Menlo,'DejaVu Sans Mono',consolas,'Courier New',monospace\"><span style=\"font-weight: bold\">Model: \"sequential\"</span>\n",
       "</pre>\n"
      ],
      "text/plain": [
       "\u001b[1mModel: \"sequential\"\u001b[0m\n"
      ]
     },
     "metadata": {},
     "output_type": "display_data"
    },
    {
     "data": {
      "text/html": [
       "<pre style=\"white-space:pre;overflow-x:auto;line-height:normal;font-family:Menlo,'DejaVu Sans Mono',consolas,'Courier New',monospace\">┏━━━━━━━━━━━━━━━━━━━━━━━━━━━━━━━━━━━━━━┳━━━━━━━━━━━━━━━━━━━━━━━━━━━━━┳━━━━━━━━━━━━━━━━━┓\n",
       "┃<span style=\"font-weight: bold\"> Layer (type)                         </span>┃<span style=\"font-weight: bold\"> Output Shape                </span>┃<span style=\"font-weight: bold\">         Param # </span>┃\n",
       "┡━━━━━━━━━━━━━━━━━━━━━━━━━━━━━━━━━━━━━━╇━━━━━━━━━━━━━━━━━━━━━━━━━━━━━╇━━━━━━━━━━━━━━━━━┩\n",
       "│ embedding (<span style=\"color: #0087ff; text-decoration-color: #0087ff\">Embedding</span>)                │ ?                           │     <span style=\"color: #00af00; text-decoration-color: #00af00\">0</span> (unbuilt) │\n",
       "├──────────────────────────────────────┼─────────────────────────────┼─────────────────┤\n",
       "│ simple_rnn (<span style=\"color: #0087ff; text-decoration-color: #0087ff\">SimpleRNN</span>)               │ ?                           │     <span style=\"color: #00af00; text-decoration-color: #00af00\">0</span> (unbuilt) │\n",
       "├──────────────────────────────────────┼─────────────────────────────┼─────────────────┤\n",
       "│ dense (<span style=\"color: #0087ff; text-decoration-color: #0087ff\">Dense</span>)                        │ ?                           │     <span style=\"color: #00af00; text-decoration-color: #00af00\">0</span> (unbuilt) │\n",
       "├──────────────────────────────────────┼─────────────────────────────┼─────────────────┤\n",
       "│ dense_1 (<span style=\"color: #0087ff; text-decoration-color: #0087ff\">Dense</span>)                      │ ?                           │     <span style=\"color: #00af00; text-decoration-color: #00af00\">0</span> (unbuilt) │\n",
       "└──────────────────────────────────────┴─────────────────────────────┴─────────────────┘\n",
       "</pre>\n"
      ],
      "text/plain": [
       "┏━━━━━━━━━━━━━━━━━━━━━━━━━━━━━━━━━━━━━━┳━━━━━━━━━━━━━━━━━━━━━━━━━━━━━┳━━━━━━━━━━━━━━━━━┓\n",
       "┃\u001b[1m \u001b[0m\u001b[1mLayer (type)                        \u001b[0m\u001b[1m \u001b[0m┃\u001b[1m \u001b[0m\u001b[1mOutput Shape               \u001b[0m\u001b[1m \u001b[0m┃\u001b[1m \u001b[0m\u001b[1m        Param #\u001b[0m\u001b[1m \u001b[0m┃\n",
       "┡━━━━━━━━━━━━━━━━━━━━━━━━━━━━━━━━━━━━━━╇━━━━━━━━━━━━━━━━━━━━━━━━━━━━━╇━━━━━━━━━━━━━━━━━┩\n",
       "│ embedding (\u001b[38;5;33mEmbedding\u001b[0m)                │ ?                           │     \u001b[38;5;34m0\u001b[0m (unbuilt) │\n",
       "├──────────────────────────────────────┼─────────────────────────────┼─────────────────┤\n",
       "│ simple_rnn (\u001b[38;5;33mSimpleRNN\u001b[0m)               │ ?                           │     \u001b[38;5;34m0\u001b[0m (unbuilt) │\n",
       "├──────────────────────────────────────┼─────────────────────────────┼─────────────────┤\n",
       "│ dense (\u001b[38;5;33mDense\u001b[0m)                        │ ?                           │     \u001b[38;5;34m0\u001b[0m (unbuilt) │\n",
       "├──────────────────────────────────────┼─────────────────────────────┼─────────────────┤\n",
       "│ dense_1 (\u001b[38;5;33mDense\u001b[0m)                      │ ?                           │     \u001b[38;5;34m0\u001b[0m (unbuilt) │\n",
       "└──────────────────────────────────────┴─────────────────────────────┴─────────────────┘\n"
      ]
     },
     "metadata": {},
     "output_type": "display_data"
    },
    {
     "data": {
      "text/html": [
       "<pre style=\"white-space:pre;overflow-x:auto;line-height:normal;font-family:Menlo,'DejaVu Sans Mono',consolas,'Courier New',monospace\"><span style=\"font-weight: bold\"> Total params: </span><span style=\"color: #00af00; text-decoration-color: #00af00\">0</span> (0.00 B)\n",
       "</pre>\n"
      ],
      "text/plain": [
       "\u001b[1m Total params: \u001b[0m\u001b[38;5;34m0\u001b[0m (0.00 B)\n"
      ]
     },
     "metadata": {},
     "output_type": "display_data"
    },
    {
     "data": {
      "text/html": [
       "<pre style=\"white-space:pre;overflow-x:auto;line-height:normal;font-family:Menlo,'DejaVu Sans Mono',consolas,'Courier New',monospace\"><span style=\"font-weight: bold\"> Trainable params: </span><span style=\"color: #00af00; text-decoration-color: #00af00\">0</span> (0.00 B)\n",
       "</pre>\n"
      ],
      "text/plain": [
       "\u001b[1m Trainable params: \u001b[0m\u001b[38;5;34m0\u001b[0m (0.00 B)\n"
      ]
     },
     "metadata": {},
     "output_type": "display_data"
    },
    {
     "data": {
      "text/html": [
       "<pre style=\"white-space:pre;overflow-x:auto;line-height:normal;font-family:Menlo,'DejaVu Sans Mono',consolas,'Courier New',monospace\"><span style=\"font-weight: bold\"> Non-trainable params: </span><span style=\"color: #00af00; text-decoration-color: #00af00\">0</span> (0.00 B)\n",
       "</pre>\n"
      ],
      "text/plain": [
       "\u001b[1m Non-trainable params: \u001b[0m\u001b[38;5;34m0\u001b[0m (0.00 B)\n"
      ]
     },
     "metadata": {},
     "output_type": "display_data"
    }
   ],
   "source": [
    "\n",
    "# Model parameters\n",
    "EMBEDDING_DIM = 128  # Size of word embeddings\n",
    "RNN_UNITS = 64  # Number of units in the RNN layer\n",
    "\n",
    "# Build the Simple RNN model\n",
    "model = Sequential([\n",
    "    Embedding(input_dim=MAX_VOCAB_SIZE, output_dim=EMBEDDING_DIM),\n",
    "    SimpleRNN(RNN_UNITS, return_sequences=False),\n",
    "    Dense(32, activation='relu'),\n",
    "    Dense(1, activation='sigmoid')  # Output layer for binary classification\n",
    "])\n",
    "\n",
    "# Model summary\n",
    "model.summary()"
   ]
  },
  {
   "cell_type": "markdown",
   "id": "b866d2f3-4fbb-47bb-afe1-f660773a8c38",
   "metadata": {},
   "source": [
    "---\n",
    "\n",
    "### **4.2 Compiling and Training the Model**  \n",
    "We will compile the model using **binary cross-entropy loss** (since it's a binary classification problem) and the **Adam optimizer** for efficient learning.  \n",
    "\n",
    "\n"
   ]
  },
  {
   "cell_type": "code",
   "execution_count": 12,
   "id": "80cc4862-5e88-4ab0-bff0-7bc101738618",
   "metadata": {},
   "outputs": [],
   "source": [
    "\n",
    "model.compile(loss='binary_crossentropy', optimizer='adam', metrics=['accuracy'])\n",
    "\n",
    "\n",
    "\n"
   ]
  },
  {
   "cell_type": "markdown",
   "id": "42ed09b1-d1a7-4bac-9ccc-ec600da02f9e",
   "metadata": {},
   "source": [
    "#### **Implementing Early Stop**  \n",
    "Early stopping monitors validation loss and halts training when no further improvement is detected.\n",
    "\n",
    "- `monitor='val_loss'`: Tracks validation loss instead of accuracy for better generalization.  \n",
    "- `patience=3`: Stops training if validation loss doesn’t improve for 3 consecutive epochs.  \n",
    "- `restore_best_weights=True`: Ensures the best-performing model is saved."
   ]
  },
  {
   "cell_type": "code",
   "execution_count": 13,
   "id": "d99d1e37-c30d-4551-8762-cd9d90e545cd",
   "metadata": {},
   "outputs": [],
   "source": [
    "\n",
    "# Define Early Stopping\n",
    "early_stop = EarlyStopping(monitor='val_loss', patience=3, restore_best_weights=True)\n"
   ]
  },
  {
   "cell_type": "markdown",
   "id": "65041a79-59fb-4e68-9eab-893bb3b4781b",
   "metadata": {},
   "source": [
    "#### **Training the Model**  \n",
    "We train the model with the preprocessed data.  \n",
    "\n"
   ]
  },
  {
   "cell_type": "code",
   "execution_count": 18,
   "id": "a870874b-6020-414c-a630-024ce2fc2612",
   "metadata": {},
   "outputs": [
    {
     "name": "stdout",
     "output_type": "stream",
     "text": [
      "Epoch 1/10\n",
      "\u001b[1m1123/1123\u001b[0m \u001b[32m━━━━━━━━━━━━━━━━━━━━\u001b[0m\u001b[37m\u001b[0m \u001b[1m63s\u001b[0m 56ms/step - accuracy: 0.6377 - loss: 0.5619 - val_accuracy: 0.8656 - val_loss: 0.3551\n",
      "Epoch 2/10\n",
      "\u001b[1m1123/1123\u001b[0m \u001b[32m━━━━━━━━━━━━━━━━━━━━\u001b[0m\u001b[37m\u001b[0m \u001b[1m62s\u001b[0m 55ms/step - accuracy: 0.8962 - loss: 0.3034 - val_accuracy: 0.8584 - val_loss: 0.4113\n",
      "Epoch 3/10\n",
      "\u001b[1m1123/1123\u001b[0m \u001b[32m━━━━━━━━━━━━━━━━━━━━\u001b[0m\u001b[37m\u001b[0m \u001b[1m62s\u001b[0m 56ms/step - accuracy: 0.8301 - loss: 0.3992 - val_accuracy: 0.8693 - val_loss: 0.3424\n",
      "Epoch 4/10\n",
      "\u001b[1m1123/1123\u001b[0m \u001b[32m━━━━━━━━━━━━━━━━━━━━\u001b[0m\u001b[37m\u001b[0m \u001b[1m62s\u001b[0m 56ms/step - accuracy: 0.8973 - loss: 0.2903 - val_accuracy: 0.8965 - val_loss: 0.3186\n",
      "Epoch 5/10\n",
      "\u001b[1m1123/1123\u001b[0m \u001b[32m━━━━━━━━━━━━━━━━━━━━\u001b[0m\u001b[37m\u001b[0m \u001b[1m63s\u001b[0m 56ms/step - accuracy: 0.8985 - loss: 0.2859 - val_accuracy: 0.6501 - val_loss: 0.5759\n",
      "Epoch 6/10\n",
      "\u001b[1m1123/1123\u001b[0m \u001b[32m━━━━━━━━━━━━━━━━━━━━\u001b[0m\u001b[37m\u001b[0m \u001b[1m62s\u001b[0m 55ms/step - accuracy: 0.6936 - loss: 0.4882 - val_accuracy: 0.8765 - val_loss: 0.4039\n",
      "Epoch 7/10\n",
      "\u001b[1m1123/1123\u001b[0m \u001b[32m━━━━━━━━━━━━━━━━━━━━\u001b[0m\u001b[37m\u001b[0m \u001b[1m62s\u001b[0m 56ms/step - accuracy: 0.7652 - loss: 0.4300 - val_accuracy: 0.7774 - val_loss: 0.5041\n"
     ]
    }
   ],
   "source": [
    "# Train the model with early stopping\n",
    "history = model.fit(X_train, y_train,\n",
    "                    validation_data=(X_test, y_test),\n",
    "                    epochs=10,  \n",
    "                    batch_size=32,\n",
    "                    callbacks=[early_stop],  # Include Early Stopping\n",
    "                    verbose=1)\n"
   ]
  },
  {
   "cell_type": "markdown",
   "id": "2df377a7-2237-421b-b83e-804c6eca8499",
   "metadata": {},
   "source": [
    "---\n",
    "\n",
    "### **Key Insights from Model Training**  \n",
    "📌 The **embedding layer** converts words into vector representations.  \n",
    "📌 A **Simple RNN layer** processes sequential information.  \n",
    "📌 The model is **trained for 10 epochs** with batch size 32.  \n",
    "📌 The training history includes **loss and accuracy trends**, which we will analyze next.  "
   ]
  },
  {
   "cell_type": "markdown",
   "id": "565e7256-4cb9-44d5-8389-d96c8528c860",
   "metadata": {},
   "source": [
    "### **Step 5: Model Evaluation and Performance Analysis**  \n",
    "\n",
    "Now that our Simple RNN model is trained, we evaluate its performance using accuracy, precision, recall, and F1-score.  \n",
    "\n",
    "---\n",
    "\n",
    "### **5.1 Evaluating the Model on the Test Set**  \n",
    "\n",
    "\n",
    "\n",
    "\n",
    "\n"
   ]
  },
  {
   "cell_type": "code",
   "execution_count": 21,
   "id": "9a68c3c8-18c7-480f-836d-0f98ddbba498",
   "metadata": {},
   "outputs": [
    {
     "name": "stdout",
     "output_type": "stream",
     "text": [
      "\u001b[1m281/281\u001b[0m \u001b[32m━━━━━━━━━━━━━━━━━━━━\u001b[0m\u001b[37m\u001b[0m \u001b[1m3s\u001b[0m 12ms/step - accuracy: 0.8973 - loss: 0.3144\n",
      "Test Accuracy: 0.8965\n"
     ]
    }
   ],
   "source": [
    "# Evaluate the model on the test set\n",
    "test_loss, test_accuracy = model.evaluate(X_test, y_test)\n",
    "\n",
    "# Display test accuracy\n",
    "print(f\"Test Accuracy: {test_accuracy:.4f}\")\n"
   ]
  },
  {
   "cell_type": "markdown",
   "id": "d6d54857-3135-452c-82ea-df97fa66b12b",
   "metadata": {},
   "source": [
    "🔹 **Test Accuracy**: Measures the model’s ability to correctly classify real and fake news.  \n",
    "🔹 **Loss Value**: Indicates how well the model generalizes to unseen data.  \n",
    "\n",
    "💡 **Your Results**:\n",
    "- **Test Accuracy:** `0.8965` (89.65%)  \n",
    "- The model achieves **high accuracy**, showing strong generalization.  \n",
    "\n",
    "---\n",
    "\n",
    "### **5.2 Generating Classification Report and Confusion Matrix**  \n",
    "\n",
    "\n"
   ]
  },
  {
   "cell_type": "code",
   "execution_count": 22,
   "id": "1e59b73e-9c78-43b8-8185-300136caebe9",
   "metadata": {},
   "outputs": [
    {
     "name": "stdout",
     "output_type": "stream",
     "text": [
      "\u001b[1m281/281\u001b[0m \u001b[32m━━━━━━━━━━━━━━━━━━━━\u001b[0m\u001b[37m\u001b[0m \u001b[1m4s\u001b[0m 14ms/step\n",
      "              precision    recall  f1-score   support\n",
      "\n",
      "           0       0.90      0.90      0.90      4696\n",
      "           1       0.89      0.90      0.89      4284\n",
      "\n",
      "    accuracy                           0.90      8980\n",
      "   macro avg       0.90      0.90      0.90      8980\n",
      "weighted avg       0.90      0.90      0.90      8980\n",
      "\n"
     ]
    }
   ],
   "source": [
    "# Make predictions on test data\n",
    "y_pred = (model.predict(X_test) > 0.5).astype(\"int32\")\n",
    "\n",
    "# Generate and print the classification report\n",
    "print(classification_report(y_test, y_pred))\n"
   ]
  },
  {
   "cell_type": "markdown",
   "id": "66fab932-cb57-4550-865f-c92d84f173be",
   "metadata": {},
   "source": [
    "\n",
    "\n",
    "🔹 **Precision**: How many predicted \"Fake\" or \"Real\" news labels are correct.  \n",
    "🔹 **Recall**: How many actual \"Fake\" or \"Real\" news are correctly identified.  \n",
    "🔹 **F1-Score**: Balance between Precision & Recall.  \n",
    "\n",
    "💡 **Your Results**:\n",
    "```\n",
    "              precision    recall  f1-score   support\n",
    "\n",
    "           0       0.90      0.90      0.90      4696\n",
    "           1       0.89      0.90      0.89      4284\n",
    "\n",
    "    accuracy                           0.90      8980\n",
    "   macro avg       0.90      0.90      0.90      8980\n",
    "weighted avg       0.90      0.90      0.90      8980\n",
    "```\n",
    "✅ **Balanced performance** across both classes.  \n",
    "✅ **High recall (0.90) for both real & fake news**, meaning the model rarely misses a correct label.  \n",
    "\n",
    "---\n",
    "\n",
    "### **5.3 Visualizing Confusion Matrix**  \n",
    "\n"
   ]
  },
  {
   "cell_type": "code",
   "execution_count": 39,
   "id": "5afaad3e-562a-440e-be27-e688645b754d",
   "metadata": {},
   "outputs": [
    {
     "data": {
      "image/png": "[encoded data removed]",
      "text/plain": [
       "<Figure size 600x500 with 2 Axes>"
      ]
     },
     "metadata": {},
     "output_type": "display_data"
    }
   ],
   "source": [
    "\n",
    "# Compute Confusion Matrix\n",
    "cm = confusion_matrix(y_test, y_pred)\n",
    "\n",
    "# Plot Confusion Matrix\n",
    "plt.figure(figsize=(6, 5))\n",
    "sns.heatmap(cm, annot=True, fmt='d', cmap='Blues', xticklabels=['Fake', 'Real'], yticklabels=['Fake', 'Real'])\n",
    "plt.xlabel('Predicted Label')\n",
    "plt.ylabel('True Label')\n",
    "plt.title('Confusion Matrix')\n",
    "plt.show()\n"
   ]
  },
  {
   "cell_type": "markdown",
   "id": "819b26d9-d53b-4ad0-ba43-ff8caf70f61b",
   "metadata": {},
   "source": [
    "📌 **Interpretation**:\n",
    "- The diagonal values show **correct classifications** (True Positives & True Negatives).  \n",
    "- Off-diagonal values indicate **misclassifications**.  \n",
    "\n",
    "---\n",
    "\n",
    "### **Summary of Step 5**  \n",
    "\n",
    "✅ **Model Accuracy**: **89.65%** on the test set.  \n",
    "✅ **Balanced Precision, Recall, and F1-score (~0.90 each)**, proving effective classification.  \n",
    "✅ **Confusion Matrix** visualization highlights correct & incorrect classifications.  \n",
    "\n",
    "---\n"
   ]
  },
  {
   "cell_type": "markdown",
   "id": "024bb8cb-5e7c-4197-83cf-29f021e33bee",
   "metadata": {},
   "source": [
    "### **Step 6: Saving the Model and Tokenizer**  \n",
    "\n",
    "To ensure that we can reuse our trained model for predictions and deployment, we need to save both the **model** and the **tokenizer**. The tokenizer is essential because it helps preprocess text data the same way during inference as it did during training.\n",
    "\n",
    "---\n",
    "\n",
    "### **6.1 Saving the Model (`.keras` format)**\n",
    "\n"
   ]
  },
  {
   "cell_type": "code",
   "execution_count": 49,
   "id": "f4cd0f45-3c32-4dfd-a091-b37e7a65e2fe",
   "metadata": {},
   "outputs": [
    {
     "name": "stdout",
     "output_type": "stream",
     "text": [
      "Model saved successfully as fake_news_rnn.keras!\n"
     ]
    }
   ],
   "source": [
    "# Save the trained model in .keras format\n",
    "model.save(\"../models/fake_news_rnn.keras\")\n",
    "\n",
    "print(\"Model saved successfully as fake_news_rnn.keras!\")\n",
    "\n",
    "\n"
   ]
  },
  {
   "cell_type": "markdown",
   "id": "61091370-8ab8-4488-b498-09d26f80c939",
   "metadata": {},
   "source": [
    "\n",
    "✅ The `.keras` format preserves:\n",
    "- Model architecture  \n",
    "- Trained weights  \n",
    "- Optimizer state  \n",
    "\n",
    "---\n",
    "\n",
    "### **6.2 Saving the Tokenizer**\n",
    "\n",
    "\n"
   ]
  },
  {
   "cell_type": "code",
   "execution_count": 50,
   "id": "71c5d47d-4c12-4796-a64c-3581c48a14d5",
   "metadata": {},
   "outputs": [
    {
     "name": "stdout",
     "output_type": "stream",
     "text": [
      "Tokenizer saved successfully as tokenizer.pkl!\n"
     ]
    }
   ],
   "source": [
    "# Save the tokenizer\n",
    "with open(\"../models/tokenizer.pkl\", \"wb\") as f:\n",
    "    pickle.dump(tokenizer, f)\n",
    "\n",
    "print(\"Tokenizer saved successfully as tokenizer.pkl!\")\n",
    "\n"
   ]
  },
  {
   "cell_type": "markdown",
   "id": "870d1008-0493-4efd-be93-4e98cae34e12",
   "metadata": {},
   "source": [
    "\n",
    "✅ This allows us to preprocess future text inputs in the same way as during training.\n",
    "\n",
    "---\n",
    "\n",
    "### **6.3 Loading the Saved Model and Tokenizer**  \n"
   ]
  },
  {
   "cell_type": "code",
   "execution_count": 53,
   "id": "f7191723-bc32-4cff-94d9-11d41eec8014",
   "metadata": {},
   "outputs": [
    {
     "name": "stdout",
     "output_type": "stream",
     "text": [
      "Model loaded successfully!\n",
      "Tokenizer loaded successfully!\n"
     ]
    }
   ],
   "source": [
    "# Load model\n",
    "loaded_model = load_model(\"../models/fake_news_rnn.keras\")\n",
    "print(\"Model loaded successfully!\")\n",
    "\n",
    "# Load tokenizer\n",
    "with open(\"../models/tokenizer.pkl\", \"rb\") as f:\n",
    "    loaded_tokenizer = pickle.load(f)\n",
    "print(\"Tokenizer loaded successfully!\")"
   ]
  },
  {
   "cell_type": "markdown",
   "id": "e5589548-ca06-4c4e-95c2-774e08cb3cff",
   "metadata": {},
   "source": [
    "---\n",
    "\n",
    "### **6.4 Making Predictions with the Saved Model**  \n",
    "\n"
   ]
  },
  {
   "cell_type": "code",
   "execution_count": 55,
   "id": "b30de2bd-8165-467b-911e-4dc53a2f3f72",
   "metadata": {},
   "outputs": [
    {
     "name": "stdout",
     "output_type": "stream",
     "text": [
      "\u001b[1m1/1\u001b[0m \u001b[32m━━━━━━━━━━━━━━━━━━━━\u001b[0m\u001b[37m\u001b[0m \u001b[1m0s\u001b[0m 124ms/step\n",
      "Predicted Label: Fake\n"
     ]
    }
   ],
   "source": [
    "# Sample text input\n",
    "sample_text = [\"Breaking news! Scientists discover a new planet with signs of life.\"]\n",
    "\n",
    "# Preprocess using the loaded tokenizer\n",
    "sequence = loaded_tokenizer.texts_to_sequences(sample_text)\n",
    "padded_sequence = pad_sequences(sequence, maxlen=100, padding='post', truncating='post')\n",
    "\n",
    "# Predict using the loaded model\n",
    "prediction = loaded_model.predict(padded_sequence)\n",
    "\n",
    "# Convert probability to label (0: Fake, 1: Real)\n",
    "predicted_label = (prediction > 0.5).astype(\"int32\")[0][0]\n",
    "print(f\"Predicted Label: {'Real' if predicted_label == 1 else 'Fake'}\")"
   ]
  },
  {
   "cell_type": "markdown",
   "id": "bebaab71-03b0-4e4c-ba8f-3c7f72071725",
   "metadata": {},
   "source": [
    "---\n",
    "\n",
    "Now, our **Simple RNN model and tokenizer are saved, reloaded, and ready for deployment!** 🚀\n",
    "\n"
   ]
  },
  {
   "cell_type": "code",
   "execution_count": null,
   "id": "620fa2b1-e30f-45ab-8938-9a254d2914ff",
   "metadata": {},
   "outputs": [],
   "source": []
  }
 ],
 "metadata": {
  "kernelspec": {
   "display_name": "Python 3 (ipykernel)",
   "language": "python",
   "name": "python3"
  },
  "language_info": {
   "codemirror_mode": {
    "name": "ipython",
    "version": 3
   },
   "file_extension": ".py",
   "mimetype": "text/x-python",
   "name": "python",
   "nbconvert_exporter": "python",
   "pygments_lexer": "ipython3",
   "version": "3.12.7"
  }
 },
 "nbformat": 4,
 "nbformat_minor": 5
}
